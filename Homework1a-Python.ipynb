{
 "cells": [
  {
   "cell_type": "markdown",
   "metadata": {},
   "source": [
    "# Finding k-mers \n",
    "\n",
    "We use the term k-mer to indicate a string of DNA of length *k*. You can think of them loosely as words within a DNA sequence. For example:\n",
    "> 'ATCG' is a 4-mer (k-mer of length 4)\n",
    "> 'ATTGGGCT' is a 8-mer (kmer of length 8)\n",
    "\n",
    "**Think about it: How many 2-mers of DNA are there? How many 8-mers? What is the general formula for calculating the number of possible kmers?**\n",
    "\n",
    "k-mers of various lengths are used across biology to facilitate the analysis of sequence information. For example, k-mers are used for:\n",
    "1. The assembly of genomes and transcriptomes through the construction of De Bruijn graphs (more on this later)\n",
    "2. Identify protein coding regions\n",
    "3. Identify species within metagenomes \n",
    "4. Detection of repeats and transposable elements\n",
    "5. Evidence of recombination\n",
    "6. Identifying contamination or misassembly\n",
    "\n",
    "And many more! We will talk about k-mers more in future but for today-- let's just think about how to find them and count them. \n",
    "\n",
    "Often, sequences are broken down into their component k-mers. For example: \n",
    "\n",
    "```\n",
    "AGATTATATAGATA\n",
    "```\n",
    "Is broken into the following 5-mers:\n",
    "```\n",
    "AGATT\n",
    " GATTA\n",
    "  ATTAT\n",
    "   TTATA\n",
    "    TATAT\n",
    "     ATATA\n",
    "      TATAG\n",
    "       ATAGA\n",
    "        TAGAT\n",
    "         AGATA     \n",
    "```"
   ]
  },
  {
   "cell_type": "markdown",
   "metadata": {},
   "source": [
    "### Finding and counting a given k-mer\n",
    "Let's write a function that for a given pattern counts the number of times that pattern occurs within a string. This type of thing already exists within the `re` package-- feel free to look that up later. But for now, let's try doing this our selves:\n",
    "\n",
    "First, let's write a function called `PatternCount` that counts the number of times a pattern occurs in a string. The idea being that you can start with some sequence (string) and search for a particular k-mer or pattern (string). You should then count the number of times a pattern occurs and return and print that number.  \n",
    "\n",
    "Let's work with this pseudocode and convert it into python. (Note: `|` indicates the length of the item and `<-` indicates assignment) \n",
    "```\n",
    "PatternCount(Text, Pattern)\n",
    "\tcount <- 0\n",
    "\tfor i<- 0 to |Text| - |Pattern|\n",
    "\t\tif Text(i, |Pattern|) = Pattern\n",
    "\t\t\tcount <- count + 1\n",
    "\treturn count\n",
    "```\n",
    "A trick to making sure this work *properly* is going to be setting the for loop range over your string correctly. \n",
    "\n",
    "> Think about it: if you choose to use the `range()` think about how to set your start and stop values to make sure you are searching the full string without calling an index outside of the lenght of the serach string. "
   ]
  },
  {
   "cell_type": "code",
   "execution_count": null,
   "metadata": {},
   "outputs": [],
   "source": [
    "#Some strings to practice with\n",
    "starting_string='ATCGCTCTCTCACGTGCTCCTATGCT'\n",
    "search_1='ATC' \n",
    "search_2='CTC'\n",
    "search_3='GCTC'\n",
    "search_4='CT'"
   ]
  },
  {
   "cell_type": "code",
   "execution_count": null,
   "metadata": {},
   "outputs": [],
   "source": [
    "def PatternCount(text, pattern):\n",
    "    \n",
    "    return(count)\n",
    "        "
   ]
  },
  {
   "cell_type": "code",
   "execution_count": null,
   "metadata": {},
   "outputs": [],
   "source": [
    "## Uncomment this block of text to test out your function!\n",
    "# print(PatternCount(starting_string, search_1)) #should return 1\n",
    "# print(PatternCount(starting_string, search_2)) #should return 4\n",
    "# print(PatternCount(starting_string, search_3)) #should return 2\n",
    "# print(PatternCount(starting_string, search_4)) #should return 6\n"
   ]
  },
  {
   "cell_type": "markdown",
   "metadata": {},
   "source": [
    "### Finding kmers\n",
    "Alright, now we lets make a function called `PatternFinder`. Provided with a sequence (string) and a k-mer length (integer) the program should move through and identify all the possible k-mers in that sequence and save them to an array called Kmers. \n",
    "\n",
    "``` \n",
    "PatternFinder(Text, k)\n",
    "\tL <- |Text|\n",
    "\tKmers <- empty array\n",
    "\tfor n <- 0 to L - k \n",
    "\t\tKmers <- Text[n, k]\n",
    "\treturn Kmers\n",
    "```\n",
    "\n",
    "> Think about it: What kind of data type should we use to store our k-mers? "
   ]
  },
  {
   "cell_type": "code",
   "execution_count": null,
   "metadata": {},
   "outputs": [],
   "source": [
    "string1='ATCGC'\n",
    "string2='AGTCCTCTCGAGACT'"
   ]
  },
  {
   "cell_type": "code",
   "execution_count": null,
   "metadata": {},
   "outputs": [],
   "source": [
    "def PatternFinder(text, k):\n",
    "\n",
    "    return(Kmers)"
   ]
  },
  {
   "cell_type": "code",
   "execution_count": null,
   "metadata": {},
   "outputs": [],
   "source": [
    "# Uncomment to check your code! \n",
    "# print(PatternFinder(string1,2)) # Should return: 'AT', 'CG', 'GC', 'TC'\n",
    "# print(PatternFinder(string1,3)) # Should return: 'TCG', 'CGC', 'ATC'\n",
    "# print(PatternFinder(string2,10)) # Should return: 'CTCTCGAGAC', 'CCTCTCGAGA', 'GTCCTCTCGA', 'TCTCGAGACT', 'TCCTCTCGAG', 'AGTCCTCTCG'"
   ]
  },
  {
   "cell_type": "markdown",
   "metadata": {},
   "source": [
    "# Fun extra question: \n",
    "\n",
    "## How could you make `PatternFinder` impervious to mixed capitalization?\n",
    "\n",
    "For example, if I passed the string: `ACTacTcT` to your function it would return:\n",
    "\n",
    "> `'AC', 'CT', 'TA', 'TC'`\n",
    "\n",
    "instead of :\n",
    "\n",
    "> `'AC', 'CT', 'Ta', 'Tc', 'ac', 'cT'`"
   ]
  },
  {
   "cell_type": "code",
   "execution_count": null,
   "metadata": {},
   "outputs": [],
   "source": [
    "extra_string='ACTacTcT'"
   ]
  },
  {
   "cell_type": "markdown",
   "metadata": {},
   "source": [
    "# How long did this homework take you? \n",
    "\n",
    "## Answer here: "
   ]
  }
 ],
 "metadata": {
  "kernelspec": {
   "display_name": "Python [conda env:python_lab] *",
   "language": "python",
   "name": "conda-env-python_lab-py"
  },
  "language_info": {
   "codemirror_mode": {
    "name": "ipython",
    "version": 3
   },
   "file_extension": ".py",
   "mimetype": "text/x-python",
   "name": "python",
   "nbconvert_exporter": "python",
   "pygments_lexer": "ipython3",
   "version": "3.6.9"
  }
 },
 "nbformat": 4,
 "nbformat_minor": 2
}
